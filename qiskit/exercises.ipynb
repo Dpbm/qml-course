{
 "cells": [
  {
   "cell_type": "code",
   "execution_count": 6,
   "metadata": {},
   "outputs": [],
   "source": [
    "import warnings\n",
    "warnings.filterwarnings('ignore')\n",
    "\n",
    "import tensorflow as tf\n",
    "from tensorflow import keras\n",
    "from tensorflow.keras import  layers\n",
    "import tensorflow_datasets as tfds\n",
    "\n",
    "import matplotlib.pyplot as plt\n",
    "import numpy as np\n",
    "from sklearn.model_selection import train_test_split\n",
    "\n",
    "from tqdm import trange\n",
    "\n",
    "from qiskit import QuantumCircuit, QuantumRegister\n",
    "from qiskit.visualization import plot_bloch_multivector\n",
    "from qiskit.circuit import ParameterVector\n",
    "from qiskit.quantum_info import SparsePauliOp\n",
    "\n",
    "from qiskit_aer.primitives import EstimatorV2"
   ]
  },
  {
   "cell_type": "code",
   "execution_count": 8,
   "metadata": {},
   "outputs": [],
   "source": [
    "def get_data():\n",
    "    data, ds_info = tfds.load(\n",
    "        'cifar10',\n",
    "        split='train',\n",
    "        shuffle_files=True,\n",
    "        as_supervised=True,\n",
    "        with_info=True,\n",
    "    )\n",
    "    df = tfds.as_dataframe(data.take(1000),ds_info)\n",
    "    \n",
    "    print(\"Separando dados...\")\n",
    "    cats_dogs = df.loc[(df.label == 3) | (df.label == 5)].reset_index()\n",
    "    cats_dogs = cats_dogs.drop(axis=0, columns='index')\n",
    "\n",
    "    print(\"Adqurindo labels...\")\n",
    "    labels = cats_dogs.label.to_numpy().astype(np.uint8)\n",
    "    labels[labels == 3] = 0\n",
    "    labels[labels == 5] = 1\n",
    "\n",
    "    print(\"Normalizando imagens...\")\n",
    "    original_images = np.stack(cats_dogs.image.to_numpy()/255.0)\n",
    "    new_images = np.zeros(shape=(original_images.shape[0],10,10,1), dtype=np.float32)\n",
    "\n",
    "    for image_i in trange(new_images.shape[0]):\n",
    "        new_image = original_images[image_i]\n",
    "        new_image = tf.image.convert_image_dtype(new_image, dtype=tf.float32)\n",
    "        new_image = tf.image.resize(new_image, (10,10))\n",
    "        new_image = tf.image.rgb_to_grayscale(new_image)\n",
    "        new_images[image_i] = new_image\n",
    "\n",
    "    print(\"Separando em Train/Test...\")\n",
    "    return train_test_split(new_images, labels, test_size=0.10, random_state=37)\n"
   ]
  },
  {
   "cell_type": "code",
   "execution_count": 9,
   "metadata": {},
   "outputs": [
    {
     "name": "stderr",
     "output_type": "stream",
     "text": [
      "2024-11-03 12:59:06.437205: W tensorflow/core/kernels/data/cache_dataset_ops.cc:913] The calling iterator did not fully read the dataset being cached. In order to avoid unexpected truncation of the dataset, the partially cached contents of the dataset  will be discarded. This can happen if you have an input pipeline similar to `dataset.cache().take(k).repeat()`. You should use `dataset.take(k).cache().repeat()` instead.\n"
     ]
    },
    {
     "name": "stdout",
     "output_type": "stream",
     "text": [
      "Separando dados...\n",
      "Adqurindo labels...\n",
      "Normalizando imagens...\n"
     ]
    },
    {
     "name": "stderr",
     "output_type": "stream",
     "text": [
      "100%|██████████| 204/204 [00:00<00:00, 669.38it/s]"
     ]
    },
    {
     "name": "stdout",
     "output_type": "stream",
     "text": [
      "Separando em Train/Test...\n"
     ]
    },
    {
     "name": "stderr",
     "output_type": "stream",
     "text": [
      "\n"
     ]
    }
   ],
   "source": [
    "X_train, X_test, y_train, y_test = get_data()"
   ]
  },
  {
   "cell_type": "code",
   "execution_count": 12,
   "metadata": {},
   "outputs": [],
   "source": [
    "\"\"\"\n",
    "    Exercício 1:\n",
    "\n",
    "    Sua tarefa nessa parte do código é criar uma Quantum Convolutional Layer diferente das que foram apresntadas.\n",
    "\n",
    "    Para isso, teste diversos formatos. Você pode invetar a sua usando os gates presentes no `Qiskit` ou ainda \n",
    "    métodos outros métodos já conhecidos. Aqui vão algumas ideias e links interessantes para esse desafio:\n",
    "\n",
    "    - Utilizar `ry` e/ou `rz` ao invés de `rx`\n",
    "    - Utiliza `cx` e/ou `cz` ao invés do conjunto `crx` + `crz`\n",
    "    - Teste diferentes filtros para a camada, crie os seus próprios filtros ou utilize ansatzes conhecidas como TwoLocal ou EfficientSU2\n",
    "        - https://docs.quantum.ibm.com/api/qiskit/qiskit.circuit.library.TwoLocal\n",
    "        - https://docs.quantum.ibm.com/api/qiskit/qiskit.circuit.library.EfficientSU2\n",
    "    - Criar outros padrões de interligação entre os qbuits\n",
    "    - Testar diferentes formatos de encoding como ZFeatureMap e ZZFeatureMap\n",
    "        - https://docs.quantum.ibm.com/api/qiskit/qiskit.circuit.library.ZFeatureMap\n",
    "        - https://docs.quantum.ibm.com/api/qiskit/qiskit.circuit.library.ZZFeatureMap\n",
    "    \n",
    "    Obs: Dependendo das suas moficações será necessário adicionar mais parâmetros (pesos) na rede\n",
    "\"\"\"\n",
    "\n",
    "\n",
    "class QuantumConv2DPool(layers.Layer):\n",
    "    def __init__(self):\n",
    "        super(QuantumConv2DPool, self).__init__()\n",
    "        self._n_params = 21 # aumente ou diminua o número de parâmetros baseado nas suas modificações\n",
    "        self.w = self.add_weight(\n",
    "            shape=(1,self._n_params),\n",
    "            initializer=tf.constant_initializer(np.random.uniform(low=0, high=np.pi, size=(1,self._n_params))),\n",
    "            trainable=True,\n",
    "        )\n",
    "        self._params = ParameterVector(\"theta\",self._n_params)\n",
    "        self._circuit = None\n",
    "        self._obs = SparsePauliOp(\"IIIZ\")\n",
    "        self._estimator = EstimatorV2()\n",
    "    \n",
    "    def _build_circuit(self, data):\n",
    "        self._circuit = QuantumCircuit(4)\n",
    "\n",
    "        ### MODIFQUE AQUI!!!!!\n",
    "\n",
    "        self._encode_data(data)\n",
    "\n",
    "        self._circuit.barrier()\n",
    "        #Conv\n",
    "        self._circuit.rx(self._params[0], 0)\n",
    "        self._circuit.rx(self._params[1], 1)\n",
    "        self._circuit.rx(self._params[2], 2)\n",
    "        self._circuit.rx(self._params[3], 3)\n",
    "\n",
    "        self._circuit.crx(self._params[4], 1, 0)\n",
    "        self._circuit.crz(self._params[5], 1, 0)\n",
    "\n",
    "        self._circuit.crx(self._params[6], 2, 1)\n",
    "        self._circuit.crz(self._params[7], 2, 1)\n",
    "\n",
    "        self._circuit.crx(self._params[8], 3, 2)\n",
    "        self._circuit.crz(self._params[9], 3, 2)\n",
    "\n",
    "        self._circuit.barrier()\n",
    "        # Pool\n",
    "        self._circuit.crz(self._params[10], 1,0)\n",
    "        self._circuit.crx(self._params[11], 1,0)\n",
    "\n",
    "        self._circuit.crz(self._params[12], 3,2)\n",
    "        self._circuit.crx(self._params[13], 3,2)\n",
    "\n",
    "        self._circuit.barrier()\n",
    "        # Conv\n",
    "        self._circuit.rx(self._params[14], 0)\n",
    "        self._circuit.rx(self._params[15], 2)\n",
    "        \n",
    "        self._circuit.crz(self._params[16], 2, 0)\n",
    "        self._circuit.rz(self._params[17], 0)\n",
    "        self._circuit.crz(self._params[18], 0, 2)\n",
    "\n",
    "        self._circuit.barrier()\n",
    "        # Pool\n",
    "        self._circuit.crz(self._params[19], 2,0)\n",
    "        self._circuit.crx(self._params[20], 2,0)\n",
    "\n",
    "        ################\n",
    "\n",
    "    @staticmethod\n",
    "    def _get_angle(x):\n",
    "        return 2*np.arcsin(x)\n",
    "\n",
    "    def _encode_data(self, data):\n",
    "        ### MODIFQUE AQUI!!!!!\n",
    "\n",
    "        for i,pixel in enumerate(data):\n",
    "            self._circuit.ry(self._get_angle(pixel), i)\n",
    "            \n",
    "        ################\n",
    "        \n",
    "\n",
    "    def _measure(self):\n",
    "        weights = self.w.value.numpy()[0]\n",
    "        results = self._estimator.run([(self._circuit, self._obs, weights)]).result()\n",
    "        return results[0].data.evs\n",
    "\n",
    "    def call(self,inputs):\n",
    "        h,w,_ = inputs.shape\n",
    "        output = np.zeros(shape=(int(np.ceil(h/2)),int(np.ceil(w/2)),1))\n",
    "        for i in range(0,h,2):\n",
    "            for j in range(0,w,2):\n",
    "                data = [\n",
    "                    inputs[i][j][0],\n",
    "                    0 if i+1 > h-1 else inputs[i+1][j][0],\n",
    "                    0 if j+1 > w-1 else inputs[i][j+1][0],\n",
    "                    0 if i+1 > h-1 or j+1 > w-1 else inputs[i+1][j+1][0]\n",
    "                ]\n",
    "\n",
    "                self._build_circuit(data)\n",
    "                result = self._measure()\n",
    "                \n",
    "                output[i//2][j//2][0] = result\n",
    "\n",
    "        return output\n",
    "\n",
    "    def show_circuit(self):\n",
    "        self._build_circuit([0,0,0,0])\n",
    "        display(self._circuit.draw('mpl'))\n"
   ]
  },
  {
   "cell_type": "code",
   "execution_count": 13,
   "metadata": {},
   "outputs": [
    {
     "data": {
      "image/png": "[encoded data removed]",
      "text/plain": [
       "<Figure size 872.774x367.889 with 1 Axes>"
      ]
     },
     "metadata": {},
     "output_type": "display_data"
    }
   ],
   "source": [
    "conv_layer = QuantumConv2D()\n",
    "conv_layer.show_circuit()"
   ]
  },
  {
   "cell_type": "code",
   "execution_count": null,
   "metadata": {},
   "outputs": [],
   "source": [
    "\"\"\"\n",
    "    Exercício 2:\n",
    "\n",
    "    Agora, sua tarefa é modificar a arquitetura da rede para tentar reduzir o overfitting(https://developers.google.com/machine-learning/crash-course/overfitting/overfitting)\n",
    "\n",
    "    Para isso, modifique a arquitetura adicionando mais Dense Layers, DropOut e/ou ainda utilizando Data augmentation.\n",
    "        - https://www.tensorflow.org/tutorials/images/data_augmentation\n",
    "        - https://www.tensorflow.org/api_docs/python/tf/keras/layers/Dropout\n",
    "\n",
    "    obs: A QuantumConv2DPool Layer deve ser sempre a primeira (apenas data augmentation é possível antes da quantum layer) e as imagens devem ser sempre no tamanho 10x10\n",
    "\"\"\"\n",
    "\n",
    "class Model(tf.keras.Model):\n",
    "    def __init__(self):\n",
    "        super(Model, self).__init__()\n",
    "\n",
    "        ### MODIFIQUE AQUI!!!\n",
    "\n",
    "\n",
    "        ################\n",
    "\n",
    "        self.conv = QuantumConv2DPool()\n",
    "        self.fc = layers.Dense(5*5, activation=\"relu\", input_shape=(25,))\n",
    "\n",
    "        ### MODIFIQUE AQUI!!!\n",
    "\n",
    "\n",
    "        ################\n",
    "\n",
    "        self.out = layers.Dense(1, activation='sigmoid')\n",
    "\n",
    "    def call(self, inputs):\n",
    "        ### MODIFIQUE AQUI!!!\n",
    "\n",
    "\n",
    "        ################\n",
    "\n",
    "        x = self.conv(inputs[0]) #in: 10x10 out: 5x5 \n",
    "        x = np.expand_dims(x.flatten(), axis=0)\n",
    "\n",
    "        ### MODIFIQUE AQUI!!!\n",
    "\n",
    "        x = self.fc(x)\n",
    "        return self.out(x)\n",
    "\n",
    "        ################"
   ]
  },
  {
   "cell_type": "code",
   "execution_count": null,
   "metadata": {},
   "outputs": [],
   "source": [
    "model = Model()\n",
    "model.compile(\n",
    "    optimizer=tf.keras.optimizers.Adam(1e-4), # aqui vocêtambém pode aumentar esse valor do otimizador para tentar um melho resultado\n",
    "    loss=tf.keras.losses.BinaryCrossentropy(),\n",
    "    metrics=[tf.keras.metrics.BinaryAccuracy()],\n",
    "    run_eagerly=True\n",
    ")"
   ]
  },
  {
   "cell_type": "code",
   "execution_count": null,
   "metadata": {},
   "outputs": [],
   "source": [
    "model.fit(x=X_train, y=y_train, epochs=20, batch_size=1) # você também pode reduzir o tamanho do batch para ser mais rápido. No entanto deixe o batch_size=1 sempre"
   ]
  },
  {
   "cell_type": "code",
   "execution_count": 14,
   "metadata": {},
   "outputs": [],
   "source": [
    "def test():\n",
    "    corrects = 0 \n",
    "    wrongs = 0\n",
    "\n",
    "    for i,x in enumerate(X_test):\n",
    "        pred = np.round(model.predict(np.expand_dims(x,axis=0))[0][0])\n",
    "        correct = y_test[i] == pred\n",
    "\n",
    "        if(correct):\n",
    "            print(\"Correct!\")\n",
    "            corrects += 1\n",
    "        else:\n",
    "            print(\"Wrong!\")\n",
    "            wrongs += 1\n",
    "    print(f\"Corrects: {corrects}, Wrongs: {wrongs}\")"
   ]
  },
  {
   "cell_type": "code",
   "execution_count": null,
   "metadata": {},
   "outputs": [],
   "source": [
    "test()"
   ]
  },
  {
   "cell_type": "markdown",
   "metadata": {},
   "source": [
    "# DESAFIO\n",
    "\n",
    "Com seus novos conhecimentos, desafio você a criar um modelo para diferenciar carros e caminhões (labels 1 e 9).  (https://www.cs.toronto.edu/~kriz/cifar.html)\n",
    "\n",
    "Seja criativo e me mostre seus resultados ;)"
   ]
  }
 ],
 "metadata": {
  "kernelspec": {
   "display_name": "qml-course",
   "language": "python",
   "name": "python3"
  },
  "language_info": {
   "codemirror_mode": {
    "name": "ipython",
    "version": 3
   },
   "file_extension": ".py",
   "mimetype": "text/x-python",
   "name": "python",
   "nbconvert_exporter": "python",
   "pygments_lexer": "ipython3",
   "version": "3.10.15"
  }
 },
 "nbformat": 4,
 "nbformat_minor": 2
}
