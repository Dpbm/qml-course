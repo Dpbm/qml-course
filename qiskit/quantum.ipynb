{
 "cells": [
  {
   "cell_type": "code",
   "execution_count": 1,
   "metadata": {},
   "outputs": [
    {
     "name": "stderr",
     "output_type": "stream",
     "text": [
      "2024-11-02 15:15:50.799755: I external/local_xla/xla/tsl/cuda/cudart_stub.cc:32] Could not find cuda drivers on your machine, GPU will not be used.\n",
      "2024-11-02 15:15:50.802870: I external/local_xla/xla/tsl/cuda/cudart_stub.cc:32] Could not find cuda drivers on your machine, GPU will not be used.\n",
      "2024-11-02 15:15:50.814405: E external/local_xla/xla/stream_executor/cuda/cuda_fft.cc:485] Unable to register cuFFT factory: Attempting to register factory for plugin cuFFT when one has already been registered\n",
      "2024-11-02 15:15:50.833667: E external/local_xla/xla/stream_executor/cuda/cuda_dnn.cc:8454] Unable to register cuDNN factory: Attempting to register factory for plugin cuDNN when one has already been registered\n",
      "2024-11-02 15:15:50.839320: E external/local_xla/xla/stream_executor/cuda/cuda_blas.cc:1452] Unable to register cuBLAS factory: Attempting to register factory for plugin cuBLAS when one has already been registered\n",
      "2024-11-02 15:15:50.852633: I tensorflow/core/platform/cpu_feature_guard.cc:210] This TensorFlow binary is optimized to use available CPU instructions in performance-critical operations.\n",
      "To enable the following instructions: AVX2 FMA, in other operations, rebuild TensorFlow with the appropriate compiler flags.\n",
      "2024-11-02 15:15:52.003992: W tensorflow/compiler/tf2tensorrt/utils/py_utils.cc:38] TF-TRT Warning: Could not find TensorRT\n"
     ]
    }
   ],
   "source": [
    "import tensorflow as tf\n",
    "from tensorflow.keras import  layers\n",
    "import tensorflow_datasets as tfds\n",
    "import matplotlib.pyplot as plt\n",
    "import numpy as np\n",
    "from tqdm import trange\n",
    "from sklearn.model_selection import train_test_split\n",
    "\n",
    "from qiskit import QuantumCircuit, QuantumRegister\n",
    "from qiskit.visualization import plot_bloch_multivector\n",
    "from qiskit.circuit import ParameterVector\n",
    "from qiskit.quantum_info import SparsePauliOp\n",
    "\n",
    "from qiskit_aer.primitives import EstimatorV2"
   ]
  },
  {
   "cell_type": "code",
   "execution_count": 2,
   "metadata": {},
   "outputs": [
    {
     "name": "stderr",
     "output_type": "stream",
     "text": [
      "WARNING: All log messages before absl::InitializeLog() is called are written to STDERR\n",
      "I0000 00:00:1730571354.590074   36217 cuda_executor.cc:1015] successful NUMA node read from SysFS had negative value (-1), but there must be at least one NUMA node, so returning NUMA node zero. See more at https://github.com/torvalds/linux/blob/v6.0/Documentation/ABI/testing/sysfs-bus-pci#L344-L355\n",
      "2024-11-02 15:15:54.590677: W tensorflow/core/common_runtime/gpu/gpu_device.cc:2343] Cannot dlopen some GPU libraries. Please make sure the missing libraries mentioned above are installed properly if you would like to use GPU. Follow the guide at https://www.tensorflow.org/install/gpu for how to download and setup the required libraries for your platform.\n",
      "Skipping registering GPU devices...\n"
     ]
    }
   ],
   "source": [
    "data, ds_info = tfds.load(\n",
    "    'cifar10',\n",
    "    split='train',\n",
    "    shuffle_files=True,\n",
    "    as_supervised=True,\n",
    "    with_info=True,\n",
    ")"
   ]
  },
  {
   "cell_type": "code",
   "execution_count": 3,
   "metadata": {},
   "outputs": [
    {
     "name": "stderr",
     "output_type": "stream",
     "text": [
      "2024-11-02 15:15:54.919181: W tensorflow/core/kernels/data/cache_dataset_ops.cc:913] The calling iterator did not fully read the dataset being cached. In order to avoid unexpected truncation of the dataset, the partially cached contents of the dataset  will be discarded. This can happen if you have an input pipeline similar to `dataset.cache().take(k).repeat()`. You should use `dataset.take(k).cache().repeat()` instead.\n",
      "2024-11-02 15:15:54.922504: I tensorflow/core/framework/local_rendezvous.cc:404] Local rendezvous is aborting with status: OUT_OF_RANGE: End of sequence\n"
     ]
    }
   ],
   "source": [
    "df = tfds.as_dataframe(data.take(1000),ds_info)"
   ]
  },
  {
   "cell_type": "code",
   "execution_count": 4,
   "metadata": {},
   "outputs": [
    {
     "data": {
      "text/plain": [
       "(204, 2)"
      ]
     },
     "execution_count": 4,
     "metadata": {},
     "output_type": "execute_result"
    }
   ],
   "source": [
    "cats_dogs = df.loc[(df.label == 3) | (df.label == 5)].reset_index()\n",
    "cats_dogs = cats_dogs.drop(axis=0, columns='index')\n",
    "cats_dogs.shape"
   ]
  },
  {
   "cell_type": "code",
   "execution_count": 5,
   "metadata": {},
   "outputs": [
    {
     "data": {
      "text/plain": [
       "array([5, 3, 3, 5, 3, 5, 3, 3, 3, 3, 5, 3, 5, 3, 3, 5, 3, 3, 5, 3, 5, 5,\n",
       "       3, 3, 5, 3, 3, 5, 3, 5, 5, 3, 3, 3, 5, 3, 3, 5, 5, 3, 5, 3, 5, 3,\n",
       "       5, 3, 5, 3, 3, 5, 5, 3, 5, 3, 3, 3, 5, 3, 3, 3, 3, 3, 3, 5, 3, 5,\n",
       "       5, 3, 3, 3, 3, 5, 3, 5, 5, 3, 5, 3, 3, 5, 5, 5, 3, 3, 5, 3, 3, 3,\n",
       "       5, 5, 5, 3, 5, 5, 5, 5, 3, 5, 5, 3, 5, 3, 5, 3, 5, 5, 5, 5, 5, 5,\n",
       "       3, 3, 5, 5, 5, 5, 5, 3, 3, 3, 5, 5, 3, 5, 3, 3, 3, 5, 5, 3, 3, 3,\n",
       "       3, 5, 5, 3, 5, 3, 5, 3, 5, 5, 3, 5, 5, 5, 3, 5, 3, 3, 3, 5, 5, 5,\n",
       "       5, 5, 5, 5, 3, 3, 3, 5, 5, 5, 3, 5, 3, 3, 5, 3, 3, 5, 3, 3, 3, 5,\n",
       "       3, 3, 3, 3, 3, 3, 5, 5, 3, 5, 5, 5, 3, 5, 5, 5, 5, 5, 5, 3, 3, 3,\n",
       "       3, 5, 5, 5, 5, 5], dtype=uint8)"
      ]
     },
     "execution_count": 5,
     "metadata": {},
     "output_type": "execute_result"
    }
   ],
   "source": [
    "labels = cats_dogs.label.to_numpy().astype(np.uint8)\n",
    "labels"
   ]
  },
  {
   "cell_type": "code",
   "execution_count": 6,
   "metadata": {},
   "outputs": [
    {
     "data": {
      "text/plain": [
       "(204,)"
      ]
     },
     "execution_count": 6,
     "metadata": {},
     "output_type": "execute_result"
    }
   ],
   "source": [
    "images = cats_dogs.image.to_numpy()/255.0\n",
    "images.shape"
   ]
  },
  {
   "cell_type": "code",
   "execution_count": 7,
   "metadata": {},
   "outputs": [
    {
     "name": "stderr",
     "output_type": "stream",
     "text": [
      "100%|██████████| 204/204 [00:00<00:00, 667.29it/s]\n"
     ]
    }
   ],
   "source": [
    "for image_i in trange(images.shape[0]):\n",
    "    new_image = images[image_i]\n",
    "\n",
    "    new_image = tf.image.convert_image_dtype(new_image, dtype=tf.float32)\n",
    "    new_image = tf.image.resize(new_image, (10,10))\n",
    "    new_image = tf.image.rgb_to_grayscale(new_image)\n",
    "\n",
    "    images[image_i] = new_image"
   ]
  },
  {
   "cell_type": "code",
   "execution_count": 8,
   "metadata": {},
   "outputs": [
    {
     "data": {
      "image/png": "[encoded data removed]",
      "text/plain": [
       "<Figure size 640x480 with 2 Axes>"
      ]
     },
     "metadata": {},
     "output_type": "display_data"
    }
   ],
   "source": [
    "fig, (ax1, ax2) = plt.subplots(ncols=2, nrows=1)\n",
    "\n",
    "ax1.imshow(cats_dogs.image[100])\n",
    "ax1.set_title('Antes')\n",
    "ax1.axis('off')\n",
    "\n",
    "\n",
    "ax2.imshow(images[100])\n",
    "ax2.set_title('Depois')\n",
    "ax2.axis('off')\n",
    "\n",
    "plt.show()"
   ]
  },
  {
   "cell_type": "code",
   "execution_count": 9,
   "metadata": {},
   "outputs": [],
   "source": [
    "X_train, X_test, y_train, y_test = train_test_split(images, labels, test_size=0.10, random_state=37)"
   ]
  },
  {
   "cell_type": "code",
   "execution_count": 79,
   "metadata": {},
   "outputs": [],
   "source": [
    "class QuantumConv2D(layers.Layer):\n",
    "    def __init__(self):\n",
    "        super().__init__()\n",
    "        self.w = self.add_weight(\n",
    "            shape=(1,10),\n",
    "            initializer=tf.constant_initializer(np.random.uniform(low=0, high=np.pi, size=(1,10))),\n",
    "            trainable=True,\n",
    "        )\n",
    "        self._params = ParameterVector(\"theta\",10)\n",
    "        self._circuit = None\n",
    "        self._obs = SparsePauliOp.from_list([(\"IIIZ\",1), (\"IIZI\",1), (\"IZII\",1), (\"ZIII\",1)])\n",
    "        self._estimator = EstimatorV2()\n",
    "    \n",
    "    def _build_circuit(self, data):\n",
    "        self._circuit = QuantumCircuit(4)\n",
    "\n",
    "        self._encode_data(data)\n",
    "\n",
    "        self._circuit.barrier()\n",
    "\n",
    "        self._circuit.rx(self._params[0], 0)\n",
    "        self._circuit.rx(self._params[1], 1)\n",
    "        self._circuit.rx(self._params[2], 2)\n",
    "        self._circuit.rx(self._params[3], 3)\n",
    "\n",
    "        self._circuit.crx(self._params[4], 1, 0)\n",
    "        self._circuit.crz(self._params[5], 1, 0)\n",
    "\n",
    "        self._circuit.crx(self._params[6], 2, 1)\n",
    "        self._circuit.crx(self._params[7], 2, 1)\n",
    "\n",
    "        self._circuit.crx(self._params[8], 3, 2)\n",
    "        self._circuit.crz(self._params[9], 3, 2)\n",
    "\n",
    "    @staticmethod\n",
    "    def _get_angle(x):\n",
    "        return 2*np.arcsin(x)\n",
    "\n",
    "    def _encode_data(self, data):\n",
    "        for i,pixel in enumerate(data):\n",
    "            self._circuit.ry(self._get_angle(pixel), i)\n",
    "\n",
    "    def _measure(self):\n",
    "        output = np.zeros(shape=(4))\n",
    "        weights = self.w.value.numpy()[0]\n",
    "        results = self._estimator.run([(self._circuit, obs, weights) for obs in self._obs]).result()\n",
    "        for i,result in enumerate(results):\n",
    "            output[i] = result.data.evs\n",
    "        return output\n",
    "\n",
    "    def call(self,inputs):\n",
    "        h,w,_ = inputs.shape\n",
    "        output = np.zeros(shape=(4,h//2,w//2,1))\n",
    "\n",
    "        for i in range(0,h,2):\n",
    "            for j in range(0,w,2):\n",
    "                data = [inputs[i][j][0], inputs[i+1][j][0], inputs[i][j+1][0], inputs[i+1][j+1][0]]\n",
    "                self._build_circuit(data)\n",
    "                result = self._measure()\n",
    "                \n",
    "                output[1][i//2][j//2][0] = result[0]\n",
    "                output[2][i//2][j//2][0] = result[1]\n",
    "                output[2][i//2][j//2][0] = result[2]\n",
    "                output[3][i//2][j//2][0] = result[3]\n",
    "\n",
    "        return output\n",
    "\n",
    "    def show_circuit(self):\n",
    "        self._build_circuit([0,0,0,0])\n",
    "        display(self._circuit.draw('mpl'))\n"
   ]
  },
  {
   "cell_type": "code",
   "execution_count": 80,
   "metadata": {},
   "outputs": [
    {
     "data": {
      "text/plain": [
       "(4, 5, 5, 1)"
      ]
     },
     "execution_count": 80,
     "metadata": {},
     "output_type": "execute_result"
    }
   ],
   "source": [
    "l = QuantumConv2D()\n",
    "result = l(X_train[0])\n",
    "result.shape"
   ]
  },
  {
   "cell_type": "code",
   "execution_count": 81,
   "metadata": {},
   "outputs": [
    {
     "data": {
      "image/png": "[encoded data removed]",
      "text/plain": [
       "<Figure size 872.774x367.889 with 1 Axes>"
      ]
     },
     "metadata": {},
     "output_type": "display_data"
    }
   ],
   "source": [
    "l.show_circuit()"
   ]
  },
  {
   "cell_type": "code",
   "execution_count": 82,
   "metadata": {},
   "outputs": [],
   "source": [
    "class QuantumPool(layers.Layer):\n",
    "    def __init__(self):\n",
    "        super().__init__()\n",
    "        self.w = self.add_weight(\n",
    "            shape=(1,6),\n",
    "            initializer=tf.constant_initializer(np.random.uniform(low=0, high=np.pi, size=(1,6))),\n",
    "            trainable=True,\n",
    "        )\n",
    "        self._params = ParameterVector(\"theta\",6)\n",
    "        self._circuit = None\n",
    "        self._obs = SparsePauliOp('IIIZ')\n",
    "        self._estimator = EstimatorV2()\n",
    "    \n",
    "    def _build_circuit(self, data):\n",
    "        self._circuit = QuantumCircuit(4)\n",
    "\n",
    "        self._encode_data(data)\n",
    "\n",
    "        self._circuit.barrier()\n",
    "\n",
    "        self._circuit.crz(self._params[0], 1,0)\n",
    "        self._circuit.crx(self._params[1], 1,0)\n",
    "\n",
    "        self._circuit.crz(self._params[2], 3,2)\n",
    "        self._circuit.crx(self._params[3], 3,2)\n",
    "\n",
    "        self._circuit.crz(self._params[4], 2,0)\n",
    "        self._circuit.crx(self._params[5], 2,0)\n",
    "\n",
    "\n",
    "    @staticmethod\n",
    "    def _get_angle(x):\n",
    "        return 2*np.arcsin(x)\n",
    "\n",
    "    def _encode_data(self, data):\n",
    "        for i,pixel in enumerate(data):\n",
    "            self._circuit.ry(self._get_angle(pixel), i)\n",
    "\n",
    "    def _measure(self):\n",
    "        output = np.zeros(shape=(4))\n",
    "        weights = self.w.value.numpy()[0]\n",
    "        results = self._estimator.run([(self._circuit, self._obs, weights)]).result()\n",
    "        return results[0].data.evs\n",
    "\n",
    "    def call(self,inputs):\n",
    "        n,h,w,_ = inputs.shape\n",
    "        output = np.zeros(shape=(n,int(np.ceil(h/2)),int(np.ceil(w/2)),1))\n",
    "\n",
    "        for c in range(n): \n",
    "            for i in range(0,h,2):\n",
    "                for j in range(0,w,2):\n",
    "                    data = [\n",
    "                        inputs[c][i][j][0], \n",
    "                        0 if i+1 > h-1 else inputs[c][i+1][j][0], \n",
    "                        0 if j+1 > w-1 else inputs[c][i][j+1][0], \n",
    "                        0 if i+1 > h-1 or j+1 > w-1 else inputs[c][i+1][j+1][0]\n",
    "                    ]\n",
    "                    self._build_circuit(data)\n",
    "                    result = self._measure()\n",
    "                    output[c][i//2][j//2][0] = result\n",
    "\n",
    "        return output\n",
    "\n",
    "    def show_circuit(self):\n",
    "        self._build_circuit([0,0,0,0])\n",
    "        display(self._circuit.draw('mpl'))\n"
   ]
  },
  {
   "cell_type": "code",
   "execution_count": 83,
   "metadata": {},
   "outputs": [
    {
     "data": {
      "text/plain": [
       "(4, 3, 3, 1)"
      ]
     },
     "execution_count": 83,
     "metadata": {},
     "output_type": "execute_result"
    }
   ],
   "source": [
    "l = QuantumPool()\n",
    "result = l(result)\n",
    "result.shape"
   ]
  },
  {
   "cell_type": "code",
   "execution_count": 138,
   "metadata": {},
   "outputs": [],
   "source": [
    "class Model(tf.keras.Model):\n",
    "    def __init__(self):\n",
    "        super().__init__()\n",
    "        self.conv = QuantumConv2D()\n",
    "        self.pool = QuantumPool()\n",
    "        self.flatten = layers.Flatten()\n",
    "        self.fc = layers.Dense(3*3, activation=\"relu\")\n",
    "        self.out = layers.Dense(1, activation='sigmoid')\n",
    "\n",
    "    def call(self, inputs):\n",
    "        x = self.conv(inputs) #in: 10x10 out: 5x5 with 4 channels(fiters)\n",
    "        x = self.pool(x)\n",
    "        x = self.flatten(x)\n",
    "        x = self.fc(x)\n",
    "        return self.out(x)\n",
    "\n"
   ]
  }
 ],
 "metadata": {
  "kernelspec": {
   "display_name": "qml-course",
   "language": "python",
   "name": "python3"
  },
  "language_info": {
   "codemirror_mode": {
    "name": "ipython",
    "version": 3
   },
   "file_extension": ".py",
   "mimetype": "text/x-python",
   "name": "python",
   "nbconvert_exporter": "python",
   "pygments_lexer": "ipython3",
   "version": "3.10.15"
  }
 },
 "nbformat": 4,
 "nbformat_minor": 2
}
