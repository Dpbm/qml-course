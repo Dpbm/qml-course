{
 "cells": [
  {
   "cell_type": "code",
   "execution_count": 1,
   "metadata": {},
   "outputs": [
    {
     "name": "stderr",
     "output_type": "stream",
     "text": [
      "2024-11-02 22:33:17.513723: I external/local_xla/xla/tsl/cuda/cudart_stub.cc:32] Could not find cuda drivers on your machine, GPU will not be used.\n",
      "2024-11-02 22:33:17.517484: I external/local_xla/xla/tsl/cuda/cudart_stub.cc:32] Could not find cuda drivers on your machine, GPU will not be used.\n",
      "2024-11-02 22:33:17.529199: E external/local_xla/xla/stream_executor/cuda/cuda_fft.cc:485] Unable to register cuFFT factory: Attempting to register factory for plugin cuFFT when one has already been registered\n",
      "2024-11-02 22:33:17.548927: E external/local_xla/xla/stream_executor/cuda/cuda_dnn.cc:8454] Unable to register cuDNN factory: Attempting to register factory for plugin cuDNN when one has already been registered\n",
      "2024-11-02 22:33:17.554978: E external/local_xla/xla/stream_executor/cuda/cuda_blas.cc:1452] Unable to register cuBLAS factory: Attempting to register factory for plugin cuBLAS when one has already been registered\n",
      "2024-11-02 22:33:17.568705: I tensorflow/core/platform/cpu_feature_guard.cc:210] This TensorFlow binary is optimized to use available CPU instructions in performance-critical operations.\n",
      "To enable the following instructions: AVX2 FMA, in other operations, rebuild TensorFlow with the appropriate compiler flags.\n",
      "2024-11-02 22:33:18.644620: W tensorflow/compiler/tf2tensorrt/utils/py_utils.cc:38] TF-TRT Warning: Could not find TensorRT\n"
     ]
    }
   ],
   "source": [
    "import warnings\n",
    "warnings.filterwarnings('ignore')\n",
    "\n",
    "import tensorflow as tf\n",
    "from tensorflow.keras import  layers\n",
    "import tensorflow_datasets as tfds\n",
    "from tensorflow.keras import backend as K\n",
    "\n",
    "import matplotlib.pyplot as plt\n",
    "import numpy as np\n",
    "from tqdm import tqdm,trange\n",
    "from sklearn.model_selection import train_test_split\n",
    "\n",
    "from qiskit import QuantumCircuit, QuantumRegister\n",
    "from qiskit.visualization import plot_bloch_multivector\n",
    "from qiskit.circuit import ParameterVector\n",
    "from qiskit.quantum_info import SparsePauliOp\n",
    "\n",
    "from qiskit_aer.primitives import EstimatorV2"
   ]
  },
  {
   "cell_type": "code",
   "execution_count": 2,
   "metadata": {},
   "outputs": [
    {
     "name": "stderr",
     "output_type": "stream",
     "text": [
      "WARNING: All log messages before absl::InitializeLog() is called are written to STDERR\n",
      "I0000 00:00:1730597601.009758  156878 cuda_executor.cc:1015] successful NUMA node read from SysFS had negative value (-1), but there must be at least one NUMA node, so returning NUMA node zero. See more at https://github.com/torvalds/linux/blob/v6.0/Documentation/ABI/testing/sysfs-bus-pci#L344-L355\n",
      "2024-11-02 22:33:21.010352: W tensorflow/core/common_runtime/gpu/gpu_device.cc:2343] Cannot dlopen some GPU libraries. Please make sure the missing libraries mentioned above are installed properly if you would like to use GPU. Follow the guide at https://www.tensorflow.org/install/gpu for how to download and setup the required libraries for your platform.\n",
      "Skipping registering GPU devices...\n"
     ]
    }
   ],
   "source": [
    "data, ds_info = tfds.load(\n",
    "    'cifar10',\n",
    "    split='train',\n",
    "    shuffle_files=True,\n",
    "    as_supervised=True,\n",
    "    with_info=True,\n",
    ")"
   ]
  },
  {
   "cell_type": "code",
   "execution_count": 3,
   "metadata": {},
   "outputs": [
    {
     "name": "stderr",
     "output_type": "stream",
     "text": [
      "2024-11-02 22:33:21.323976: W tensorflow/core/kernels/data/cache_dataset_ops.cc:913] The calling iterator did not fully read the dataset being cached. In order to avoid unexpected truncation of the dataset, the partially cached contents of the dataset  will be discarded. This can happen if you have an input pipeline similar to `dataset.cache().take(k).repeat()`. You should use `dataset.take(k).cache().repeat()` instead.\n",
      "2024-11-02 22:33:21.327354: I tensorflow/core/framework/local_rendezvous.cc:404] Local rendezvous is aborting with status: OUT_OF_RANGE: End of sequence\n"
     ]
    }
   ],
   "source": [
    "df = tfds.as_dataframe(data.take(1000),ds_info)"
   ]
  },
  {
   "cell_type": "code",
   "execution_count": 4,
   "metadata": {},
   "outputs": [
    {
     "data": {
      "text/plain": [
       "(204, 2)"
      ]
     },
     "execution_count": 4,
     "metadata": {},
     "output_type": "execute_result"
    }
   ],
   "source": [
    "cats_dogs = df.loc[(df.label == 3) | (df.label == 5)].reset_index()\n",
    "cats_dogs = cats_dogs.drop(axis=0, columns='index')\n",
    "cats_dogs.shape"
   ]
  },
  {
   "cell_type": "code",
   "execution_count": 5,
   "metadata": {},
   "outputs": [
    {
     "data": {
      "text/plain": [
       "array([5, 3, 3, 5, 3, 5, 3, 3, 3, 3, 5, 3, 5, 3, 3, 5, 3, 3, 5, 3, 5, 5,\n",
       "       3, 3, 5, 3, 3, 5, 3, 5, 5, 3, 3, 3, 5, 3, 3, 5, 5, 3, 5, 3, 5, 3,\n",
       "       5, 3, 5, 3, 3, 5, 5, 3, 5, 3, 3, 3, 5, 3, 3, 3, 3, 3, 3, 5, 3, 5,\n",
       "       5, 3, 3, 3, 3, 5, 3, 5, 5, 3, 5, 3, 3, 5, 5, 5, 3, 3, 5, 3, 3, 3,\n",
       "       5, 5, 5, 3, 5, 5, 5, 5, 3, 5, 5, 3, 5, 3, 5, 3, 5, 5, 5, 5, 5, 5,\n",
       "       3, 3, 5, 5, 5, 5, 5, 3, 3, 3, 5, 5, 3, 5, 3, 3, 3, 5, 5, 3, 3, 3,\n",
       "       3, 5, 5, 3, 5, 3, 5, 3, 5, 5, 3, 5, 5, 5, 3, 5, 3, 3, 3, 5, 5, 5,\n",
       "       5, 5, 5, 5, 3, 3, 3, 5, 5, 5, 3, 5, 3, 3, 5, 3, 3, 5, 3, 3, 3, 5,\n",
       "       3, 3, 3, 3, 3, 3, 5, 5, 3, 5, 5, 5, 3, 5, 5, 5, 5, 5, 5, 3, 3, 3,\n",
       "       3, 5, 5, 5, 5, 5], dtype=uint8)"
      ]
     },
     "execution_count": 5,
     "metadata": {},
     "output_type": "execute_result"
    }
   ],
   "source": [
    "labels = cats_dogs.label.to_numpy().astype(np.uint8)\n",
    "labels"
   ]
  },
  {
   "cell_type": "code",
   "execution_count": 6,
   "metadata": {},
   "outputs": [
    {
     "data": {
      "text/plain": [
       "(204, 32, 32, 3)"
      ]
     },
     "execution_count": 6,
     "metadata": {},
     "output_type": "execute_result"
    }
   ],
   "source": [
    "original_images = np.stack(cats_dogs.image.to_numpy()/255.0)\n",
    "original_images.shape"
   ]
  },
  {
   "cell_type": "code",
   "execution_count": 7,
   "metadata": {},
   "outputs": [],
   "source": [
    "images = np.zeros(shape=(204,10,10,1), dtype=np.float32)"
   ]
  },
  {
   "cell_type": "code",
   "execution_count": 8,
   "metadata": {},
   "outputs": [
    {
     "name": "stderr",
     "output_type": "stream",
     "text": [
      "100%|██████████| 204/204 [00:00<00:00, 695.73it/s]\n"
     ]
    }
   ],
   "source": [
    "for image_i in trange(images.shape[0]):\n",
    "    new_image = original_images[image_i]\n",
    "\n",
    "    new_image = tf.image.convert_image_dtype(new_image, dtype=tf.float32)\n",
    "    new_image = tf.image.resize(new_image, (10,10))\n",
    "    new_image = tf.image.rgb_to_grayscale(new_image)\n",
    "    images[image_i] = new_image"
   ]
  },
  {
   "cell_type": "code",
   "execution_count": 9,
   "metadata": {},
   "outputs": [
    {
     "data": {
      "image/png": "[encoded data removed]",
      "text/plain": [
       "<Figure size 640x480 with 2 Axes>"
      ]
     },
     "metadata": {},
     "output_type": "display_data"
    }
   ],
   "source": [
    "fig, (ax1, ax2) = plt.subplots(ncols=2, nrows=1)\n",
    "\n",
    "ax1.imshow(cats_dogs.image[100])\n",
    "ax1.set_title('Antes')\n",
    "ax1.axis('off')\n",
    "\n",
    "\n",
    "ax2.imshow(images[100])\n",
    "ax2.set_title('Depois')\n",
    "ax2.axis('off')\n",
    "\n",
    "plt.show()"
   ]
  },
  {
   "cell_type": "code",
   "execution_count": 10,
   "metadata": {},
   "outputs": [],
   "source": [
    "X_train, X_test, y_train, y_test = train_test_split(images, labels, test_size=0.10, random_state=37)"
   ]
  },
  {
   "cell_type": "code",
   "execution_count": 11,
   "metadata": {},
   "outputs": [],
   "source": [
    "class QuantumConv2D(layers.Layer):\n",
    "    def __init__(self):\n",
    "        super(QuantumConv2D, self).__init__()\n",
    "        self.w = self.add_weight(\n",
    "            shape=(1,10),\n",
    "            initializer=tf.constant_initializer(np.random.uniform(low=0, high=np.pi, size=(1,10))),\n",
    "            trainable=True,\n",
    "        )\n",
    "        self._params = ParameterVector(\"theta\",10)\n",
    "        self._circuit = None\n",
    "        self._obs = SparsePauliOp.from_list([(\"IIIZ\",1), (\"IIZI\",1), (\"IZII\",1), (\"ZIII\",1)])\n",
    "        self._estimator = EstimatorV2()\n",
    "    \n",
    "    def _build_circuit(self, data):\n",
    "        self._circuit = QuantumCircuit(4)\n",
    "\n",
    "        self._encode_data(data)\n",
    "\n",
    "        self._circuit.barrier()\n",
    "\n",
    "        self._circuit.rx(self._params[0], 0)\n",
    "        self._circuit.rx(self._params[1], 1)\n",
    "        self._circuit.rx(self._params[2], 2)\n",
    "        self._circuit.rx(self._params[3], 3)\n",
    "\n",
    "        self._circuit.crx(self._params[4], 1, 0)\n",
    "        self._circuit.crz(self._params[5], 1, 0)\n",
    "\n",
    "        self._circuit.crx(self._params[6], 2, 1)\n",
    "        self._circuit.crx(self._params[7], 2, 1)\n",
    "\n",
    "        self._circuit.crx(self._params[8], 3, 2)\n",
    "        self._circuit.crz(self._params[9], 3, 2)\n",
    "\n",
    "\n",
    "    @staticmethod\n",
    "    def _get_angle(x):\n",
    "        return 2*np.arcsin(x)\n",
    "\n",
    "    def _encode_data(self, data):\n",
    "        for i,pixel in enumerate(data):\n",
    "            self._circuit.ry(self._get_angle(pixel), i)\n",
    "\n",
    "    def _measure(self):\n",
    "        output = np.zeros(shape=(4))\n",
    "        weights = self.w.value.numpy()[0]\n",
    "        results = self._estimator.run([(self._circuit, obs, weights) for obs in self._obs]).result()\n",
    "        for i,result in enumerate(results):\n",
    "            output[i] = result.data.evs\n",
    "        return output\n",
    "\n",
    "    def call(self,inputs):\n",
    "        h,w,_ = inputs.shape\n",
    "        output = np.zeros(shape=(4,h//2,w//2,1))\n",
    "\n",
    "        for i in range(0,h,2):\n",
    "            for j in range(0,w,2):\n",
    "                data = [\n",
    "                    inputs[i][j][0], \n",
    "                    0 if i+1 > h-1 else inputs[i+1][j][0], \n",
    "                    0 if j+1 > w-1 else inputs[i][j+1][0], \n",
    "                    0 if i+1 > h-1 or j+1 > w-1 else inputs[i+1][j+1][0]\n",
    "                ]\n",
    "\n",
    "                self._build_circuit(data)\n",
    "                result = self._measure()\n",
    "                \n",
    "                output[1][i//2][j//2][0] = result[0]\n",
    "                output[2][i//2][j//2][0] = result[1]\n",
    "                output[2][i//2][j//2][0] = result[2]\n",
    "                output[3][i//2][j//2][0] = result[3]\n",
    "\n",
    "        return output\n",
    "\n",
    "    def show_circuit(self):\n",
    "        self._build_circuit([0,0,0,0])\n",
    "        display(self._circuit.draw('mpl'))\n"
   ]
  },
  {
   "cell_type": "code",
   "execution_count": 12,
   "metadata": {},
   "outputs": [],
   "source": [
    "class QuantumPool(layers.Layer):\n",
    "    def __init__(self):\n",
    "        super(QuantumPool, self).__init__()\n",
    "        self.w = self.add_weight(\n",
    "            shape=(1,6),\n",
    "            initializer=tf.constant_initializer(np.random.uniform(low=0, high=np.pi, size=(1,6))),\n",
    "            trainable=True,\n",
    "        )\n",
    "        self._params = ParameterVector(\"theta\",6)\n",
    "        self._circuit = None\n",
    "        self._obs = SparsePauliOp('IIIZ')\n",
    "        self._estimator = EstimatorV2()\n",
    "    \n",
    "    def _build_circuit(self, data):\n",
    "        self._circuit = QuantumCircuit(4)\n",
    "\n",
    "        self._encode_data(data)\n",
    "\n",
    "        self._circuit.barrier()\n",
    "\n",
    "        self._circuit.crz(self._params[0], 1,0)\n",
    "        self._circuit.crx(self._params[1], 1,0)\n",
    "\n",
    "        self._circuit.crz(self._params[2], 3,2)\n",
    "        self._circuit.crx(self._params[3], 3,2)\n",
    "\n",
    "        self._circuit.crz(self._params[4], 2,0)\n",
    "        self._circuit.crx(self._params[5], 2,0)\n",
    "\n",
    "\n",
    "    @staticmethod\n",
    "    def _get_angle(x):\n",
    "        return 2*np.arcsin(x)\n",
    "\n",
    "    def _encode_data(self, data):\n",
    "        for i,pixel in enumerate(data):\n",
    "            self._circuit.ry(self._get_angle(pixel), i)\n",
    "\n",
    "    def _measure(self):\n",
    "        output = np.zeros(shape=(4))\n",
    "        weights = self.w.value.numpy()[0]\n",
    "        results = self._estimator.run([(self._circuit, self._obs, weights)]).result()\n",
    "        return results[0].data.evs\n",
    "\n",
    "    def call(self,inputs):\n",
    "        n,h,w,_ = inputs.shape\n",
    "        output = np.zeros(shape=(n,int(np.ceil(h/2)),int(np.ceil(w/2)),1))\n",
    "\n",
    "        for c in range(n): \n",
    "            for i in range(0,h,2):\n",
    "                for j in range(0,w,2):\n",
    "                    data = [\n",
    "                        inputs[c][i][j][0], \n",
    "                        0 if i+1 > h-1 else inputs[c][i+1][j][0], \n",
    "                        0 if j+1 > w-1 else inputs[c][i][j+1][0], \n",
    "                        0 if i+1 > h-1 or j+1 > w-1 else inputs[c][i+1][j+1][0]\n",
    "                    ]\n",
    "                    self._build_circuit(data)\n",
    "                    result = self._measure()\n",
    "                    output[c][i//2][j//2][0] = result\n",
    "\n",
    "        return output\n",
    "\n",
    "    def show_circuit(self):\n",
    "        self._build_circuit([0,0,0,0])\n",
    "        display(self._circuit.draw('mpl'))\n"
   ]
  },
  {
   "cell_type": "code",
   "execution_count": 13,
   "metadata": {},
   "outputs": [],
   "source": [
    "class Model(tf.keras.Model):\n",
    "    def __init__(self):\n",
    "        super(Model, self).__init__()\n",
    "        self.conv = QuantumConv2D()\n",
    "        self.pool = QuantumPool()\n",
    "        self.fc = layers.Dense(3*3*4, activation=\"relu\", input_shape=(36,))\n",
    "        self.out = layers.Dense(1, activation='sigmoid')\n",
    "\n",
    "    def call(self, inputs):\n",
    "        x = self.conv(inputs[0]) #in: 10x10 out: 5x5 with 4 channels(fiters)\n",
    "        x = self.pool(x)\n",
    "        x = np.expand_dims(x.flatten(), axis=0)\n",
    "        x = self.fc(x)\n",
    "        return self.out(x)\n"
   ]
  },
  {
   "cell_type": "code",
   "execution_count": 14,
   "metadata": {},
   "outputs": [],
   "source": [
    "model = Model()"
   ]
  },
  {
   "cell_type": "code",
   "execution_count": 15,
   "metadata": {},
   "outputs": [],
   "source": [
    "model.compile(\n",
    "    optimizer=tf.keras.optimizers.Adam(1e-4),\n",
    "    loss=tf.keras.losses.BinaryCrossentropy(),\n",
    "    metrics=[tf.keras.metrics.BinaryAccuracy()],\n",
    "    run_eagerly=True\n",
    ")"
   ]
  },
  {
   "cell_type": "code",
   "execution_count": 16,
   "metadata": {},
   "outputs": [],
   "source": [
    "y_train[y_train == 3] = 0\n",
    "y_train[y_train == 5] = 1\n",
    "\n",
    "y_test[y_test == 3] = 0\n",
    "y_test[y_test == 5] = 1"
   ]
  },
  {
   "cell_type": "code",
   "execution_count": 17,
   "metadata": {},
   "outputs": [
    {
     "name": "stdout",
     "output_type": "stream",
     "text": [
      "Epoch 1/20\n",
      "\u001b[1m183/183\u001b[0m \u001b[32m━━━━━━━━━━━━━━━━━━━━\u001b[0m\u001b[37m\u001b[0m \u001b[1m114s\u001b[0m 622ms/step - binary_accuracy: 0.4296 - loss: 0.7410\n",
      "Epoch 2/20\n",
      "\u001b[1m183/183\u001b[0m \u001b[32m━━━━━━━━━━━━━━━━━━━━\u001b[0m\u001b[37m\u001b[0m \u001b[1m114s\u001b[0m 623ms/step - binary_accuracy: 0.4948 - loss: 0.7251\n",
      "Epoch 3/20\n",
      "\u001b[1m183/183\u001b[0m \u001b[32m━━━━━━━━━━━━━━━━━━━━\u001b[0m\u001b[37m\u001b[0m \u001b[1m114s\u001b[0m 624ms/step - binary_accuracy: 0.5292 - loss: 0.7009\n",
      "Epoch 4/20\n",
      "\u001b[1m183/183\u001b[0m \u001b[32m━━━━━━━━━━━━━━━━━━━━\u001b[0m\u001b[37m\u001b[0m \u001b[1m110s\u001b[0m 604ms/step - binary_accuracy: 0.6200 - loss: 0.6797\n",
      "Epoch 5/20\n",
      "\u001b[1m183/183\u001b[0m \u001b[32m━━━━━━━━━━━━━━━━━━━━\u001b[0m\u001b[37m\u001b[0m \u001b[1m116s\u001b[0m 633ms/step - binary_accuracy: 0.5628 - loss: 0.6922\n",
      "Epoch 6/20\n",
      "\u001b[1m183/183\u001b[0m \u001b[32m━━━━━━━━━━━━━━━━━━━━\u001b[0m\u001b[37m\u001b[0m \u001b[1m117s\u001b[0m 640ms/step - binary_accuracy: 0.5836 - loss: 0.6892\n",
      "Epoch 7/20\n",
      "\u001b[1m183/183\u001b[0m \u001b[32m━━━━━━━━━━━━━━━━━━━━\u001b[0m\u001b[37m\u001b[0m \u001b[1m116s\u001b[0m 633ms/step - binary_accuracy: 0.5286 - loss: 0.6949\n",
      "Epoch 8/20\n",
      "\u001b[1m183/183\u001b[0m \u001b[32m━━━━━━━━━━━━━━━━━━━━\u001b[0m\u001b[37m\u001b[0m \u001b[1m119s\u001b[0m 650ms/step - binary_accuracy: 0.5708 - loss: 0.6797\n",
      "Epoch 9/20\n",
      "\u001b[1m183/183\u001b[0m \u001b[32m━━━━━━━━━━━━━━━━━━━━\u001b[0m\u001b[37m\u001b[0m \u001b[1m113s\u001b[0m 615ms/step - binary_accuracy: 0.5600 - loss: 0.6804\n",
      "Epoch 10/20\n",
      "\u001b[1m183/183\u001b[0m \u001b[32m━━━━━━━━━━━━━━━━━━━━\u001b[0m\u001b[37m\u001b[0m \u001b[1m141s\u001b[0m 608ms/step - binary_accuracy: 0.5417 - loss: 0.6753\n",
      "Epoch 11/20\n",
      "\u001b[1m183/183\u001b[0m \u001b[32m━━━━━━━━━━━━━━━━━━━━\u001b[0m\u001b[37m\u001b[0m \u001b[1m111s\u001b[0m 606ms/step - binary_accuracy: 0.6012 - loss: 0.6686\n",
      "Epoch 12/20\n",
      "\u001b[1m183/183\u001b[0m \u001b[32m━━━━━━━━━━━━━━━━━━━━\u001b[0m\u001b[37m\u001b[0m \u001b[1m113s\u001b[0m 617ms/step - binary_accuracy: 0.6122 - loss: 0.6748\n",
      "Epoch 13/20\n",
      "\u001b[1m183/183\u001b[0m \u001b[32m━━━━━━━━━━━━━━━━━━━━\u001b[0m\u001b[37m\u001b[0m \u001b[1m119s\u001b[0m 650ms/step - binary_accuracy: 0.5830 - loss: 0.6798\n",
      "Epoch 14/20\n",
      "\u001b[1m183/183\u001b[0m \u001b[32m━━━━━━━━━━━━━━━━━━━━\u001b[0m\u001b[37m\u001b[0m \u001b[1m118s\u001b[0m 644ms/step - binary_accuracy: 0.6103 - loss: 0.6600\n",
      "Epoch 15/20\n",
      "\u001b[1m183/183\u001b[0m \u001b[32m━━━━━━━━━━━━━━━━━━━━\u001b[0m\u001b[37m\u001b[0m \u001b[1m117s\u001b[0m 641ms/step - binary_accuracy: 0.5287 - loss: 0.6900\n",
      "Epoch 16/20\n",
      "\u001b[1m183/183\u001b[0m \u001b[32m━━━━━━━━━━━━━━━━━━━━\u001b[0m\u001b[37m\u001b[0m \u001b[1m120s\u001b[0m 655ms/step - binary_accuracy: 0.5936 - loss: 0.6826\n",
      "Epoch 17/20\n",
      "\u001b[1m183/183\u001b[0m \u001b[32m━━━━━━━━━━━━━━━━━━━━\u001b[0m\u001b[37m\u001b[0m \u001b[1m127s\u001b[0m 696ms/step - binary_accuracy: 0.5622 - loss: 0.6741\n",
      "Epoch 18/20\n",
      "\u001b[1m183/183\u001b[0m \u001b[32m━━━━━━━━━━━━━━━━━━━━\u001b[0m\u001b[37m\u001b[0m \u001b[1m117s\u001b[0m 637ms/step - binary_accuracy: 0.6593 - loss: 0.6528\n",
      "Epoch 19/20\n",
      "\u001b[1m183/183\u001b[0m \u001b[32m━━━━━━━━━━━━━━━━━━━━\u001b[0m\u001b[37m\u001b[0m \u001b[1m114s\u001b[0m 625ms/step - binary_accuracy: 0.5765 - loss: 0.6839\n",
      "Epoch 20/20\n",
      "\u001b[1m183/183\u001b[0m \u001b[32m━━━━━━━━━━━━━━━━━━━━\u001b[0m\u001b[37m\u001b[0m \u001b[1m118s\u001b[0m 647ms/step - binary_accuracy: 0.6288 - loss: 0.6584\n"
     ]
    },
    {
     "data": {
      "text/plain": [
       "<keras.src.callbacks.history.History at 0x76ca63f3b100>"
      ]
     },
     "execution_count": 17,
     "metadata": {},
     "output_type": "execute_result"
    }
   ],
   "source": [
    "model.fit(x=X_train, y=y_train, epochs=20, batch_size=1)"
   ]
  },
  {
   "cell_type": "code",
   "execution_count": 18,
   "metadata": {},
   "outputs": [],
   "source": [
    "model.save(\"quantum.keras\")"
   ]
  },
  {
   "cell_type": "markdown",
   "metadata": {},
   "source": [
    "---"
   ]
  },
  {
   "cell_type": "code",
   "execution_count": 37,
   "metadata": {},
   "outputs": [
    {
     "name": "stdout",
     "output_type": "stream",
     "text": [
      "\u001b[1m1/1\u001b[0m \u001b[32m━━━━━━━━━━━━━━━━━━━━\u001b[0m\u001b[37m\u001b[0m \u001b[1m1s\u001b[0m 661ms/step\n",
      "Wrong!\n",
      "\u001b[1m1/1\u001b[0m \u001b[32m━━━━━━━━━━━━━━━━━━━━\u001b[0m\u001b[37m\u001b[0m \u001b[1m1s\u001b[0m 664ms/step\n",
      "Correct!\n",
      "\u001b[1m1/1\u001b[0m \u001b[32m━━━━━━━━━━━━━━━━━━━━\u001b[0m\u001b[37m\u001b[0m \u001b[1m1s\u001b[0m 653ms/step\n",
      "Wrong!\n",
      "\u001b[1m1/1\u001b[0m \u001b[32m━━━━━━━━━━━━━━━━━━━━\u001b[0m\u001b[37m\u001b[0m \u001b[1m1s\u001b[0m 746ms/step\n",
      "Wrong!\n",
      "\u001b[1m1/1\u001b[0m \u001b[32m━━━━━━━━━━━━━━━━━━━━\u001b[0m\u001b[37m\u001b[0m \u001b[1m1s\u001b[0m 659ms/step\n",
      "Correct!\n",
      "\u001b[1m1/1\u001b[0m \u001b[32m━━━━━━━━━━━━━━━━━━━━\u001b[0m\u001b[37m\u001b[0m \u001b[1m1s\u001b[0m 652ms/step\n",
      "Wrong!\n",
      "\u001b[1m1/1\u001b[0m \u001b[32m━━━━━━━━━━━━━━━━━━━━\u001b[0m\u001b[37m\u001b[0m \u001b[1m1s\u001b[0m 646ms/step\n",
      "Wrong!\n",
      "\u001b[1m1/1\u001b[0m \u001b[32m━━━━━━━━━━━━━━━━━━━━\u001b[0m\u001b[37m\u001b[0m \u001b[1m1s\u001b[0m 675ms/step\n",
      "Correct!\n",
      "\u001b[1m1/1\u001b[0m \u001b[32m━━━━━━━━━━━━━━━━━━━━\u001b[0m\u001b[37m\u001b[0m \u001b[1m1s\u001b[0m 683ms/step\n",
      "Wrong!\n",
      "\u001b[1m1/1\u001b[0m \u001b[32m━━━━━━━━━━━━━━━━━━━━\u001b[0m\u001b[37m\u001b[0m \u001b[1m1s\u001b[0m 669ms/step\n",
      "Wrong!\n",
      "\u001b[1m1/1\u001b[0m \u001b[32m━━━━━━━━━━━━━━━━━━━━\u001b[0m\u001b[37m\u001b[0m \u001b[1m1s\u001b[0m 780ms/step\n",
      "Wrong!\n",
      "\u001b[1m1/1\u001b[0m \u001b[32m━━━━━━━━━━━━━━━━━━━━\u001b[0m\u001b[37m\u001b[0m \u001b[1m1s\u001b[0m 718ms/step\n",
      "Correct!\n",
      "\u001b[1m1/1\u001b[0m \u001b[32m━━━━━━━━━━━━━━━━━━━━\u001b[0m\u001b[37m\u001b[0m \u001b[1m1s\u001b[0m 664ms/step\n",
      "Wrong!\n",
      "\u001b[1m1/1\u001b[0m \u001b[32m━━━━━━━━━━━━━━━━━━━━\u001b[0m\u001b[37m\u001b[0m \u001b[1m1s\u001b[0m 676ms/step\n",
      "Wrong!\n",
      "\u001b[1m1/1\u001b[0m \u001b[32m━━━━━━━━━━━━━━━━━━━━\u001b[0m\u001b[37m\u001b[0m \u001b[1m1s\u001b[0m 641ms/step\n",
      "Correct!\n",
      "\u001b[1m1/1\u001b[0m \u001b[32m━━━━━━━━━━━━━━━━━━━━\u001b[0m\u001b[37m\u001b[0m \u001b[1m1s\u001b[0m 624ms/step\n",
      "Wrong!\n",
      "\u001b[1m1/1\u001b[0m \u001b[32m━━━━━━━━━━━━━━━━━━━━\u001b[0m\u001b[37m\u001b[0m \u001b[1m1s\u001b[0m 644ms/step\n",
      "Wrong!\n",
      "\u001b[1m1/1\u001b[0m \u001b[32m━━━━━━━━━━━━━━━━━━━━\u001b[0m\u001b[37m\u001b[0m \u001b[1m1s\u001b[0m 621ms/step\n",
      "Correct!\n",
      "\u001b[1m1/1\u001b[0m \u001b[32m━━━━━━━━━━━━━━━━━━━━\u001b[0m\u001b[37m\u001b[0m \u001b[1m1s\u001b[0m 621ms/step\n",
      "Wrong!\n",
      "\u001b[1m1/1\u001b[0m \u001b[32m━━━━━━━━━━━━━━━━━━━━\u001b[0m\u001b[37m\u001b[0m \u001b[1m1s\u001b[0m 620ms/step\n",
      "Wrong!\n",
      "\u001b[1m1/1\u001b[0m \u001b[32m━━━━━━━━━━━━━━━━━━━━\u001b[0m\u001b[37m\u001b[0m \u001b[1m1s\u001b[0m 624ms/step\n",
      "Wrong!\n",
      "Corrects: 6, Wrongs: 15\n"
     ]
    }
   ],
   "source": [
    "corrects = 0 \n",
    "wrongs = 0\n",
    "\n",
    "for i,x in enumerate(X_test):\n",
    "    pred = np.round(model.predict(np.expand_dims(x,axis=0))[0][0])\n",
    "    correct = y_test[i] == pred\n",
    "\n",
    "    if(correct):\n",
    "        print(\"Correct!\")\n",
    "        corrects += 1\n",
    "    else:\n",
    "        print(\"Wrong!\")\n",
    "        wrongs += 1\n",
    "print(f\"Corrects: {corrects}, Wrongs: {wrongs}\")"
   ]
  }
 ],
 "metadata": {
  "kernelspec": {
   "display_name": "qml-course",
   "language": "python",
   "name": "python3"
  },
  "language_info": {
   "codemirror_mode": {
    "name": "ipython",
    "version": 3
   },
   "file_extension": ".py",
   "mimetype": "text/x-python",
   "name": "python",
   "nbconvert_exporter": "python",
   "pygments_lexer": "ipython3",
   "version": "3.10.15"
  }
 },
 "nbformat": 4,
 "nbformat_minor": 2
}
